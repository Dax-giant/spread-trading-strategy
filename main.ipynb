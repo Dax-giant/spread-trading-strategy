{
 "cells": [
  {
   "cell_type": "markdown",
   "metadata": {},
   "source": [
    "\n",
    "<h1>Research phase<h1>"
   ]
  },
  {
   "cell_type": "code",
   "execution_count": null,
   "metadata": {},
   "outputs": [],
   "source": [
    "# importing libs\n",
    "import pandas as pd\n",
    "import matplotlib.pyplot as plt\n",
    "import yfinance as yf\n",
    "from datetime import datetime\n",
    "from statsmodels.tsa.stattools import coint\n",
    "import plotly.graph_objects as go"
   ]
  },
  {
   "cell_type": "code",
   "execution_count": null,
   "metadata": {},
   "outputs": [],
   "source": [
    "# List of asset candidates\n",
    "assets = [\"SPY\", \"QQQ\", \"XLK\", \"VGT\", \"IVV\"]"
   ]
  },
  {
   "cell_type": "code",
   "execution_count": null,
   "metadata": {},
   "outputs": [],
   "source": [
    "# Download historical price data\n",
    "start_date = \"2020-01-01\"\n",
    "# Creating today date variable\n",
    "end_date = str(datetime.today().date())"
   ]
  },
  {
   "cell_type": "code",
   "execution_count": null,
   "metadata": {},
   "outputs": [],
   "source": [
    "# Downlaod our data\n",
    "data = yf.download(tickers=assets, start=start_date, end=end_date, interval=\"1d\")['Close'].dropna()\n",
    "# Reset the index\n",
    "data.reset_index(inplace=True)\n",
    "# Extracting date form date time  \n",
    "data[\"Date\"] = data[\"Date\"].apply(lambda x : x.date())\n",
    "# setting Date column as our index and dropping the old one\n",
    "data  = data.reset_index(drop=True).set_index(\"Date\")\n",
    "# show up the resualt\n",
    "data.head()"
   ]
  },
  {
   "cell_type": "code",
   "execution_count": null,
   "metadata": {},
   "outputs": [],
   "source": [
    "# Studying correlation matrix\n",
    "corr_matrix = data.corr()\n",
    "corr_matrix"
   ]
  },
  {
   "cell_type": "code",
   "execution_count": null,
   "metadata": {},
   "outputs": [],
   "source": [
    "# Looking for the strongest correlation between assets\n",
    "strong_corr = corr_matrix[(corr_matrix > 0.8) & (corr_matrix < 1)]\n",
    "strong_corr"
   ]
  },
  {
   "cell_type": "code",
   "execution_count": null,
   "metadata": {},
   "outputs": [],
   "source": [
    "# plotting Price over time to make a comparison\n",
    "plt.figure(figsize=(14, 6))\n",
    "for i in data.columns:\n",
    "    plt.plot(data[i], label=str(i))\n",
    "plt.title('Price Comparison')\n",
    "plt.xlabel('Date')\n",
    "plt.ylabel('Price')\n",
    "plt.legend()\n",
    "plt.show()\n"
   ]
  },
  {
   "cell_type": "code",
   "execution_count": null,
   "metadata": {},
   "outputs": [],
   "source": [
    "# Initialize an empty DataFrame to store spreads\n",
    "spread_df = pd.DataFrame(index=data.index)\n",
    "\n",
    "# Loop through each pair of assets and calculate the spread\n",
    "for i in range(len(assets)):\n",
    "    for j in range(i+1, len(assets)): \n",
    "        asset1 = assets[i]\n",
    "        asset2 = assets[j]\n",
    "        \n",
    "        # Calculate the spread (difference between the two assets)\n",
    "        spread_label = f\"{asset1}_{asset2}\"\n",
    "        spread_df[spread_label] = data[asset1] - data[asset2]\n",
    "\n",
    "# Display the first few rows of the calculated spreads\n",
    "spread_df"
   ]
  },
  {
   "cell_type": "code",
   "execution_count": null,
   "metadata": {},
   "outputs": [],
   "source": [
    "# Plot the spreads\n",
    "plt.figure(figsize=(12, 6))\n",
    "for column in spread_df.columns:\n",
    "    plt.plot(spread_df[column], label=column)\n",
    "\n",
    "plt.title('Spread Between Multiple Assets')\n",
    "plt.xlabel('Date')\n",
    "plt.ylabel('Spread Value')\n",
    "plt.legend()\n",
    "plt.show()"
   ]
  },
  {
   "cell_type": "code",
   "execution_count": null,
   "metadata": {},
   "outputs": [],
   "source": [
    "# Initialize an empty dictionary, so we can store each assets with p-value\n",
    "pvalue = dict()\n",
    "# Looping throw corrlated assets and caluclationg the p-value for each\n",
    "for i in range(len(assets)):\n",
    "    for j in range(i+1, len(assets)):\n",
    "        score, p_value, _ = coint(data[assets[i]], data[assets[j]])\n",
    "        print(f\"Cointegration Test p-value for {assets[i]} and {assets[j]}: {p_value}\")\n",
    "        pvalue.update({f\"{assets[i]} and {assets[j]}\": p_value})\n"
   ]
  },
  {
   "cell_type": "code",
   "execution_count": null,
   "metadata": {},
   "outputs": [],
   "source": [
    "# Looping throw the p-values dict, so we can find out the co-integrated assets, with p-value < 0.05 \n",
    "for i in pvalue.values():\n",
    "    if i < 0.05:\n",
    "        key = next((k for k, v in pvalue.items() if v == i), None)\n",
    "        print(f\"Spread trading opportunity: {key} thier p-value: {i} < 0.05\")"
   ]
  },
  {
   "cell_type": "markdown",
   "metadata": {},
   "source": [
    "<h1>Application & Backtesting phase<h1>"
   ]
  },
  {
   "cell_type": "code",
   "execution_count": null,
   "metadata": {},
   "outputs": [],
   "source": [
    "# Creating new dataframe with the spread of correlated assets\n",
    "spread_data = spread_df['SPY_IVV'].to_frame(\"Spread\")\n",
    "# Plot the speard and the mean \n",
    "plt.figure(figsize=(12, 6))\n",
    "plt.plot(spread_data['Spread'], label='Spread', color='blue')\n",
    "plt.axhline(spread_data['Spread'].mean(), color='red', linestyle='--', label='Mean Spread')\n",
    "plt.title('Spread Between SPY and IW')\n",
    "plt.xlabel('Date')\n",
    "plt.ylabel('Spread Value')\n",
    "plt.legend()\n",
    "plt.show()"
   ]
  },
  {
   "cell_type": "code",
   "execution_count": null,
   "metadata": {},
   "outputs": [],
   "source": [
    "# Calculate mean and standard deviation\n",
    "mean_spread = spread_df['SPY_IVV'].mean()\n",
    "std_spread = spread_df['SPY_IVV'].std()\n",
    "\n",
    "# Calculate upper and lower bounds\n",
    "spread_data['Upper Bound'] = mean_spread + std_spread\n",
    "spread_data['Lower Bound'] = mean_spread - std_spread\n"
   ]
  },
  {
   "cell_type": "code",
   "execution_count": null,
   "metadata": {},
   "outputs": [],
   "source": [
    "# Create our signals\n",
    "spread_data['Signal'] = 0\n",
    "# Short opportunity\n",
    "spread_data.loc[spread_data['Spread'] > spread_data['Upper Bound'], 'Signal'] = -1\n",
    "# Long portunity \n",
    "spread_data.loc[spread_data['Spread'] < spread_data['Lower Bound'], 'Signal'] = 1  \n",
    "\n",
    "# Visualize signals on the spread\n",
    "plt.figure(figsize=(12, 6))\n",
    "plt.plot(spread_data['Spread'], label='Spread', color='blue')\n",
    "plt.plot(spread_data['Upper Bound'], label='Upper Bound', color='green', linestyle='--')\n",
    "plt.plot(spread_data['Lower Bound'], label='Lower Bound', color='orange', linestyle='--')\n",
    "plt.scatter(spread_data['Spread'][spread_data['Signal']== 1].index, spread_data['Spread'][spread_data['Signal'] == 1], color='green', label='Buy Signal', marker='^')\n",
    "plt.scatter(spread_data['Spread'][spread_data['Signal']== -1].index, spread_data['Spread'][spread_data['Signal'] == -1], color='red', label='Sell Signal', marker='v')\n",
    "plt.title('Spread Trading Signals')\n",
    "plt.xlabel('Date')\n",
    "plt.ylabel('Spread Value')\n",
    "plt.legend()\n",
    "plt.show()\n"
   ]
  },
  {
   "cell_type": "code",
   "execution_count": null,
   "metadata": {},
   "outputs": [],
   "source": [
    "# Backtesting\n",
    "spread_data['PnL'] = spread_data['Signal'].shift(1) * (spread_data['Spread'].diff())\n",
    "spread_data['Cumulative PnL'] = spread_data['PnL'].cumsum()\n",
    "\n",
    "# Plot cumulative profit and loss\n",
    "plt.figure(figsize=(12, 6))\n",
    "plt.plot(spread_data['Cumulative PnL'], label='Cumulative PnL', color='purple')\n",
    "plt.title('Cumulative Profit and Loss')\n",
    "plt.xlabel('Date')\n",
    "plt.ylabel('PnL')\n",
    "plt.legend()\n",
    "plt.show()"
   ]
  },
  {
   "cell_type": "code",
   "execution_count": null,
   "metadata": {},
   "outputs": [],
   "source": [
    "# Calculate sharpe ratio \n",
    "sharpe_ratio = spread_data['PnL'].mean() / spread_data['PnL'].std() * (252**0.5)\n",
    "print(f\"Sharpe Ratio: {sharpe_ratio:.2f}\")"
   ]
  },
  {
   "cell_type": "code",
   "execution_count": null,
   "metadata": {},
   "outputs": [],
   "source": [
    "# Create new portfolio df for backtesting \n",
    "portfolio = pd.DataFrame(index=data.index)\n",
    "# Calculate the opposite positions for each asset\n",
    "# If SPY long IVV short and vice versa\n",
    "portfolio['SPY_Position'] = spread_data['Signal'] \n",
    "portfolio['IVV_Position'] = spread_data['Signal'] * -1\n",
    "\n",
    "# Calculate the returns for each asset \n",
    "portfolio['SPY_Return'] = data['SPY'].pct_change() * portfolio['SPY_Position'].shift(1)\n",
    "portfolio['IVV_Return'] = data['IVV'].pct_change() * portfolio['IVV_Position'].shift(1)\n",
    "# Total Reurn \n",
    "portfolio['Total_Return'] = portfolio['SPY_Return'] + portfolio['IVV_Return']\n",
    "# Cumulative return \n",
    "portfolio['Cumulative_Return'] = portfolio['Total_Return'].cumsum()\n",
    "portfolio.dropna(inplace=True)"
   ]
  },
  {
   "cell_type": "code",
   "execution_count": null,
   "metadata": {},
   "outputs": [],
   "source": [
    "# Plot the resualt of our backtest\n",
    "plt.figure(figsize=(12, 6))\n",
    "plt.plot(data['SPY'].pct_change() * portfolio['SPY_Position'].shift(1), label=\"SPY Return\", color='Red')\n",
    "plt.plot(data['IVV'].pct_change() * portfolio['IVV_Position'].shift(1), label=\"IVV Return\", color='Blue')\n",
    "plt.title(\"Pairs Trading Backtest - SPY & IVV\")\n",
    "plt.xlabel(\"Date\")\n",
    "plt.ylabel(\"Cumulative Return\")\n",
    "plt.legend()\n",
    "plt.show()"
   ]
  },
  {
   "cell_type": "code",
   "execution_count": null,
   "metadata": {},
   "outputs": [],
   "source": [
    "# Plot the resualt of our backtest\n",
    "plt.figure(figsize=(12, 6))\n",
    "plt.plot(portfolio['Cumulative_Return'], label=\"Cumulative Portfolio Return\", color='Green')\n",
    "plt.title(\"Pairs Trading Backtest - SPY & IVV\")\n",
    "plt.xlabel(\"Date\")\n",
    "plt.ylabel(\"Cumulative Return\")\n",
    "plt.legend()\n",
    "plt.show()"
   ]
  },
  {
   "cell_type": "code",
   "execution_count": null,
   "metadata": {},
   "outputs": [],
   "source": [
    "# Plot the resualt of our cumulative return for each asset \n",
    "plt.figure(figsize=(12, 6))\n",
    "plt.plot(data['SPY'].pct_change() * portfolio['SPY_Position'].shift(1).cumsum(), label=\"SPY cumulative return\", color='Red')\n",
    "plt.plot(data['IVV'].pct_change() * portfolio['IVV_Position'].shift(1).cumsum(), label=\"IVV cumulative return\", color='Blue')\n",
    "plt.title(\"Pairs Trading Backtest - SPY & IVV\")\n",
    "plt.xlabel(\"Date\")\n",
    "plt.ylabel(\"Cumulative Return\")\n",
    "plt.legend()\n",
    "plt.show()"
   ]
  },
  {
   "cell_type": "code",
   "execution_count": null,
   "metadata": {},
   "outputs": [],
   "source": [
    "# Plot the resualt of our return for each asset \n",
    "plt.figure(figsize=(12, 6))\n",
    "plt.plot(data['SPY'].pct_change() * portfolio['SPY_Position'].shift(1), label=\"SPY Return\", color='Red')\n",
    "plt.plot(data['IVV'].pct_change() * portfolio['IVV_Position'].shift(1), label=\"IVV Return\", color='Blue')\n",
    "plt.title(\"Pairs Trading Backtest - SPY & IVV\")\n",
    "plt.xlabel(\"Date\")\n",
    "plt.ylabel(\"Cumulative Return\")\n",
    "plt.legend()\n",
    "plt.show()"
   ]
  },
  {
   "cell_type": "code",
   "execution_count": null,
   "metadata": {},
   "outputs": [],
   "source": [
    "# Preparing data for plotting\n",
    "x = portfolio.index\n",
    "SPY_CumReturn = data['SPY'].pct_change() * portfolio['SPY_Position'].shift(1).cumsum()\n",
    "IVV_CumReturn = data['IVV'].pct_change() * portfolio['IVV_Position'].shift(1).cumsum()\n",
    "SPY_Return = data['SPY'].pct_change() * portfolio['SPY_Position'].shift(1)\n",
    "IVV_Return = data['IVV'].pct_change() * portfolio['IVV_Position'].shift(1)\n",
    "\n",
    "# Create a figure\n",
    "fig = go.Figure()\n",
    "\n",
    "# Create traces\n",
    "fig.add_traces([\n",
    "    go.Scatter(x=x, y=portfolio['Cumulative_Return'], mode='lines', name='Total cumulative return', line=dict(color='Green')),\n",
    "    go.Scatter(x=x, y=SPY_CumReturn, mode='lines', name='SPY cumulative return', line=dict(color='Blue')),\n",
    "    go.Scatter(x=x, y=IVV_CumReturn, mode='lines', name='IVV cumulative return', line=dict(color='Red')),\n",
    "    go.Scatter(x=x, y=SPY_Return, mode='lines+markers', name='SPY return', line=dict(color='Blue')),\n",
    "    go.Scatter(x=x, y=IVV_Return, mode='lines+markers', name='IVV return', line=dict(color='Red'))\n",
    "])\n",
    "\n",
    "# Update layout\n",
    "fig.update_layout(\n",
    "    title=\"Pairs Trading Backtest - Interactive Plot\",\n",
    "    xaxis_title=\"Date\",\n",
    "    yaxis_title=\"Cumulative Return\",\n",
    "    hovermode=\"x unified\",\n",
    "    template=\"plotly_dark\",\n",
    "    width=1000,\n",
    "    height=600,\n",
    ")\n",
    "\n",
    "# Show the plot\n",
    "fig.show()\n"
   ]
  }
 ],
 "metadata": {
  "kernelspec": {
   "display_name": "Python 3",
   "language": "python",
   "name": "python3"
  },
  "language_info": {
   "codemirror_mode": {
    "name": "ipython",
    "version": 3
   },
   "file_extension": ".py",
   "mimetype": "text/x-python",
   "name": "python",
   "nbconvert_exporter": "python",
   "pygments_lexer": "ipython3",
   "version": "3.12.2"
  }
 },
 "nbformat": 4,
 "nbformat_minor": 2
}
